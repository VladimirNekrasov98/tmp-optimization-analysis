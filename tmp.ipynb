{
 "cells": [
  {
   "cell_type": "markdown",
   "metadata": {},
   "source": [
    "## Описание проекта\n"
   ]
  },
  {
   "cell_type": "markdown",
   "metadata": {},
   "source": [
    "Для исследования применимости алгоритмов машинного обучения в задаче расчёта высоковакуумного турбомолекулярного насоса следует решить следующие задачи:\n",
    "\n",
    "- Решить оптимизационную задачу нахождения минимального диаметра колеса ТМН;\n",
    "- Сгенерировать данные и провести по ним EDA;\n",
    "- Исследовать различные модели машинного обучения на предмет предсказания минимального диаметра;\n",
    "- Выбрать лучшую предсказательную модель и уточнить диапазоны оптимальных величин.\n",
    "- Если возможно, получить функциональную зависимость.\n"
   ]
  },
  {
   "cell_type": "markdown",
   "metadata": {},
   "source": [
    "## Теоретическая часть\n"
   ]
  },
  {
   "cell_type": "markdown",
   "metadata": {},
   "source": [
    "Определения:\n",
    "\n",
    "- S - быстрота действия насоса, м^3/c;\n",
    "- $S_{max}$ - максимальная быстрота действия насоса, м^3/c;\n",
    "- T - температура газа, К;\n",
    "- M - молярная масса газа, г/моль;\n",
    "- $с_1 = \\frac{u_2}{v_{нв}}$ - отношение окружной скорости рабочего колеса на наружном диаметре к наиболее вероятной скорости теплового движения молекул;\n",
    "- $\\psi = \\frac{h_2}{h_1}$ - отношение толщин лопатки на внешнем и внутреннем диаметрах;\n",
    "- $\\theta = \\frac{H_2}{H_1}$ - отношение толщин колеса на внешнем диаметре и у основания;\n",
    "- $\\lambda = \\frac{D_1}{D_2}$ - отношение внутреннего диаметра колеса к внешнему диаметру;\n",
    "- $\\alpha$ - угол установки лопаток, $\\degree$;\n",
    "- $\\frac{a_1}{b_1}$ - отношение ширины межлопаточного канала и длины лопатки у корневого сечения;\n",
    "\n",
    "В процессе расчёта по заданной быстроте действия насоса $S = (0.9...0.95)S_{max}$ определяют наружный диаметр внешнего колеса $D_2$, м:\n",
    "\n",
    "$$\n",
    "D_2 = \\sqrt{\\frac{S_{max}}{18.2\\pi\\sqrt{\\frac{T}{M}}}\\cdot F(c_1, \\alpha, ab_1, \\lambda)},\n",
    "$$\n",
    "\n",
    "где\n",
    "\n",
    "$$\n",
    "F(c_1, \\alpha, ab_1, \\lambda) = \\frac{\\frac{a_1}{b_1}+\\frac{h_1}{H_1}}{(\\frac{a_1}{b_1}+\\frac{h_1}{H_1}\\frac{1-\\lambda\\psi}{1-\\lambda})I_1(c_1, \\alpha, ab_1, \\lambda)-\\lambda\\frac{h_1}{H_1}\\frac{1-\\lambda\\psi}{1-\\lambda}I_2(c_1, \\alpha, ab_1, \\lambda)},\n",
    "$$\n",
    "\n",
    "где $I_1$ и $I_2$ - интегралы, характеризующие вероятность перехода молекул со стороны пониженного давления на сторону повышенного и в обратном направлении:\n",
    "\n",
    "$$\n",
    "I_1 = \\frac{2}{\\pi}\\int_\\lambda^1\\frac{x}{ab(x)}\\int_0^{ab(x)}\\arcsin\\Bigl(\\frac{c_1x\\sin{\\alpha}}{\\sqrt{(ab(x) - y - \\cos(\\alpha))^2 + \\sin(\\alpha)^2}}\\Bigr),\n",
    "$$\n",
    "\n",
    "$$\n",
    "I_2 = \\frac{2}{\\pi}\\int_\\lambda^1\\frac{1}{ab(x)}\\int_0^{ab(x)}\\arcsin\\Bigl(\\frac{c_1x\\sin{\\alpha}}{\\sqrt{(ab(x) - y - \\cos(\\alpha))^2 + \\sin(\\alpha)^2}}\\Bigr),\n",
    "$$\n",
    "\n",
    "$$\n",
    "ab(x) = \\frac{1-\\lambda}{x(\\theta-1)+1-\\theta\\lambda}\\Bigl[\\frac{x}{\\lambda}\\frac{a_1}{b_1} + \\frac{h_1}{H_1}\\frac{(1-\\lambda\\psi)(x-\\lambda)}{\\lambda(1-\\lambda)}\\Bigr].\n",
    "$$\n",
    "\n",
    "Проверка данных интегралов показала, что для них невозможно выразить решение в элементарных функциях, а значит найти минимальный диаметр возможно только путем решения задачи оптимизации численными методами. Стоит отметить, что задача сводится к поиску минимума функции F, зависящей только от геометрии колеса, поскольку формулы сводятся к $D_2 = const\\cdot\\sqrt{F}$.\n",
    "\n",
    "Для удобства дальнейших вычислений обозначим класс Wheel, описывающее колесо ступени ТМН и впоследствии будем создавать его экзепляры с различным набором параметров, характеризующих его геомерию. Оптимальное значение F будем искать, задаваясь $с_1$ и $\\alpha$, находя для них также $\\lambda_{опт}$ и $\\Bigl(\\frac{a_1}{b_1}\\Bigr)_{опт}$.\n"
   ]
  },
  {
   "cell_type": "markdown",
   "metadata": {},
   "source": [
    "## Практическая часть\n"
   ]
  },
  {
   "cell_type": "code",
   "execution_count": 1,
   "metadata": {},
   "outputs": [
    {
     "name": "stderr",
     "output_type": "stream",
     "text": [
      "c:\\Projects\\Python_Jupyter\\tmp-optimization-analysis\\.venv\\lib\\site-packages\\tqdm\\auto.py:21: TqdmWarning: IProgress not found. Please update jupyter and ipywidgets. See https://ipywidgets.readthedocs.io/en/stable/user_install.html\n",
      "  from .autonotebook import tqdm as notebook_tqdm\n"
     ]
    }
   ],
   "source": [
    "import optuna\n",
    "import numpy as np\n",
    "from scipy.integrate import dblquad\n",
    "\n",
    "import warnings\n",
    "\n",
    "warnings.filterwarnings(\"ignore\")"
   ]
  },
  {
   "cell_type": "code",
   "execution_count": 2,
   "metadata": {},
   "outputs": [],
   "source": [
    "# example\n",
    "alpha = np.deg2rad(30)\n",
    "theta, psi = 1, 1\n",
    "hH_1 = 0.25\n",
    "c_1 = 0.7\n"
   ]
  },
  {
   "cell_type": "code",
   "execution_count": 3,
   "metadata": {},
   "outputs": [],
   "source": [
    "def ab(x, lambda_, ab_1):\n",
    "    fx1 = hH_1 * (1 - lambda_ * psi) * (x - lambda_) / (lambda_ * (1 - lambda_))\n",
    "    gx = (1 - lambda_) / (x * (theta - 1) + 1 - theta * lambda_)\n",
    "    fx2 = x * ab_1 / lambda_\n",
    "    return gx * (fx1 + fx2)"
   ]
  },
  {
   "cell_type": "code",
   "execution_count": 4,
   "metadata": {},
   "outputs": [],
   "source": [
    "def i_funcs(x, y, lambda_, ab_1, n):\n",
    "    num = c_1 * x * np.sin(alpha)\n",
    "    den = np.sqrt((ab(x, lambda_, ab_1) - y - np.cos(alpha)) ** 2 + np.sin(alpha) ** 2)\n",
    "    fx = 2 * x**n * np.arcsin(num / den)\n",
    "    gx = np.pi * ab(x, lambda_, ab_1)\n",
    "    return fx / gx\n",
    "\n",
    "\n",
    "lambda_ = 0.65\n",
    "ab_1 = 0.9"
   ]
  },
  {
   "cell_type": "code",
   "execution_count": 5,
   "metadata": {},
   "outputs": [
    {
     "name": "stdout",
     "output_type": "stream",
     "text": [
      "CPU times: total: 28.4 s\n",
      "Wall time: 28.4 s\n"
     ]
    }
   ],
   "source": [
    "%%time\n",
    "I_1 = dblquad(lambda x, y: i_funcs(x, y, lambda_, ab_1, 1),\n",
    "              lambda_, 1, 0, lambda x: ab(x, lambda_, ab_1))[0]"
   ]
  },
  {
   "cell_type": "code",
   "execution_count": 6,
   "metadata": {},
   "outputs": [
    {
     "name": "stdout",
     "output_type": "stream",
     "text": [
      "CPU times: total: 27.4 s\n",
      "Wall time: 27.4 s\n"
     ]
    }
   ],
   "source": [
    "%%time\n",
    "I_2 = dblquad(lambda x, y: i_funcs(x, y, lambda_, ab_1, 0),\n",
    "              lambda_, 1, 0, lambda x: ab(x, lambda_, ab_1))[0]"
   ]
  },
  {
   "cell_type": "code",
   "execution_count": 8,
   "metadata": {},
   "outputs": [
    {
     "data": {
      "text/plain": [
       "19.80452921246964"
      ]
     },
     "execution_count": 8,
     "metadata": {},
     "output_type": "execute_result"
    }
   ],
   "source": [
    "def f_obj():\n",
    "    const = hH_1 * (1 - lambda_ * psi) / (1 - lambda_)\n",
    "    det = (ab_1 + const) * I_1 - lambda_ * const * I_2\n",
    "    return (ab_1 + hH_1) / det\n",
    "\n",
    "\n",
    "f_obj()"
   ]
  },
  {
   "cell_type": "markdown",
   "metadata": {},
   "source": [
    "Выводы:\n"
   ]
  },
  {
   "cell_type": "markdown",
   "metadata": {},
   "source": [
    "## Подбор моделей\n"
   ]
  },
  {
   "cell_type": "markdown",
   "metadata": {},
   "source": []
  },
  {
   "cell_type": "markdown",
   "metadata": {},
   "source": [
    "Выводы:\n"
   ]
  },
  {
   "cell_type": "markdown",
   "metadata": {},
   "source": [
    "## Общие выводы\n"
   ]
  },
  {
   "cell_type": "markdown",
   "metadata": {},
   "source": []
  }
 ],
 "metadata": {
  "kernelspec": {
   "display_name": ".venv",
   "language": "python",
   "name": "python3"
  },
  "language_info": {
   "codemirror_mode": {
    "name": "ipython",
    "version": 3
   },
   "file_extension": ".py",
   "mimetype": "text/x-python",
   "name": "python",
   "nbconvert_exporter": "python",
   "pygments_lexer": "ipython3",
   "version": "3.9.13"
  }
 },
 "nbformat": 4,
 "nbformat_minor": 2
}
