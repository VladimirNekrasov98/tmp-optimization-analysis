{
 "cells": [
  {
   "cell_type": "markdown",
   "metadata": {},
   "source": [
    "## Описание проекта\n"
   ]
  },
  {
   "cell_type": "markdown",
   "metadata": {},
   "source": [
    "Для исследования применимости алгоритмов машинного обучения в задаче расчёта высоковакуумного турбомолекулярного насоса следует решить следующие задачи:\n",
    "\n",
    "- Решить оптимизационную задачу нахождения минимального диаметра колеса ТМН;\n",
    "- Сгенерировать данные и провести по ним EDA;\n",
    "- Исследовать различные модели машинного обучения на предмет предсказания минимального диаметра;\n",
    "- Выбрать лучшую предсказательную модель и уточнить диапазоны оптимальных величин.\n",
    "- Если возможно, получить функциональную зависимость.\n"
   ]
  },
  {
   "cell_type": "markdown",
   "metadata": {},
   "source": [
    "## Теоретическая часть\n"
   ]
  },
  {
   "cell_type": "markdown",
   "metadata": {},
   "source": [
    "Определения:\n",
    "\n",
    "- S - быстрота действия насоса, м^3/c;\n",
    "- $S_{max}$ - максимальная быстрота действия насоса, м^3/c;\n",
    "- T - температура газа, К;\n",
    "- M - молярная масса газа, г/моль;\n",
    "- $с_1 = \\frac{u_2}{v_{нв}}$ - отношение окружной скорости рабочего колеса на наружном диаметре к наиболее вероятной скорости теплового движения молекул;\n",
    "- $\\psi = \\frac{h_2}{h_1}$ - отношение толщин лопатки на внешнем и внутреннем диаметрах;\n",
    "- $\\theta = \\frac{H_2}{H_1}$ - отношение толщин колеса на внешнем диаметре и у основания;\n",
    "- $\\lambda = \\frac{D_1}{D_2}$ - отношение внутреннего диаметра колеса к внешнему диаметру;\n",
    "- $\\alpha$ - угол установки лопаток, $\\degree$;\n",
    "- $\\frac{a_1}{b_1}$ - отношение ширины межлопаточного канала и длины лопатки у корневого сечения;\n",
    "\n",
    "В процессе расчёта по заданной быстроте действия насоса $S = (0.9...0.95)S_{max}$ определяют наружный диаметр внешнего колеса $D_2$, м:\n",
    "\n",
    "$$\n",
    "D_2 = \\sqrt{\\frac{S_{max}}{18.2\\pi\\sqrt{\\frac{T}{M}}}\\cdot F(c_1, \\alpha, ab_1, \\lambda)},\n",
    "$$\n",
    "\n",
    "где\n",
    "\n",
    "$$\n",
    "F(c_1, \\alpha, ab_1, \\lambda) = \\frac{\\frac{a_1}{b_1}+\\frac{h_1}{H_1}}{(\\frac{a_1}{b_1}+\\frac{h_1}{H_1}\\frac{1-\\lambda\\psi}{1-\\lambda})I_1(c_1, \\alpha, ab_1, \\lambda)-\\lambda\\frac{h_1}{H_1}\\frac{1-\\lambda\\psi}{1-\\lambda}I_2(c_1, \\alpha, ab_1, \\lambda)},\n",
    "$$\n",
    "\n",
    "где $I_1$ и $I_2$ - интегралы, характеризующие вероятность перехода молекул со стороны пониженного давления на сторону повышенного и в обратном направлении:\n",
    "\n",
    "$$\n",
    "I_1 = \\frac{2}{\\pi}\\int_\\lambda^1\\frac{x}{ab(x)}\\int_0^{ab(x)}\\arcsin\\Bigl(\\frac{c_1x\\sin{\\alpha}}{\\sqrt{(ab(x) - y - \\cos(\\alpha))^2 + \\sin(\\alpha)^2}}\\Bigr),\n",
    "$$\n",
    "\n",
    "$$\n",
    "I_2 = \\frac{2}{\\pi}\\int_\\lambda^1\\frac{1}{ab(x)}\\int_0^{ab(x)}\\arcsin\\Bigl(\\frac{c_1x\\sin{\\alpha}}{\\sqrt{(ab(x) - y - \\cos(\\alpha))^2 + \\sin(\\alpha)^2}}\\Bigr),\n",
    "$$\n",
    "\n",
    "$$\n",
    "ab(x) = \\frac{1-\\lambda}{x(\\theta-1)+1-\\theta\\lambda}\\Bigl[\\frac{x}{\\lambda}\\frac{a_1}{b_1} + \\frac{h_1}{H_1}\\frac{(1-\\lambda\\psi)(x-\\lambda)}{\\lambda(1-\\lambda)}\\Bigr].\n",
    "$$\n",
    "\n",
    "Проверка данных интегралов показала, что для них невозможно выразить решение в элементарных функциях, а значит найти минимальный диаметр возможно только путем решения задачи оптимизации численными методами. Стоит отметить, что задача сводится к поиску минимума функции F, зависящей только от геометрии колеса, поскольку формулы сводятся к $D_2 = const\\cdot\\sqrt{F}$.\n",
    "\n",
    "Для удобства дальнейших вычислений обозначим класс Wheel, описывающее колесо ступени ТМН и впоследствии будем создавать его экзепляры с различным набором параметров, характеризующих его геомерию. Оптимальное значение F будем искать, задаваясь $с_1$ и $\\alpha$, находя для них также $\\lambda_{опт}$ и $\\Bigl(\\frac{a_1}{b_1}\\Bigr)_{опт}$.\n"
   ]
  },
  {
   "cell_type": "markdown",
   "metadata": {},
   "source": [
    "## Практическая часть\n"
   ]
  },
  {
   "cell_type": "code",
   "execution_count": 1,
   "metadata": {},
   "outputs": [],
   "source": [
    "import optuna\n",
    "import numpy as np\n",
    "from scipy.integrate import dblquad\n",
    "from rich.progress import track\n",
    "\n",
    "import warnings\n",
    "from itertools import product\n",
    "\n",
    "warnings.filterwarnings(\"ignore\")\n",
    "optuna.logging.set_verbosity(optuna.logging.WARNING)"
   ]
  },
  {
   "cell_type": "code",
   "execution_count": 2,
   "metadata": {},
   "outputs": [],
   "source": [
    "# example\n",
    "theta, psi = 1, 1\n",
    "hH_1 = 0.25"
   ]
  },
  {
   "cell_type": "code",
   "execution_count": 3,
   "metadata": {},
   "outputs": [],
   "source": [
    "def ab(x, lambda_, ab_1):\n",
    "    fx1 = hH_1 * (1 - lambda_ * psi) * (x - lambda_) / (lambda_ * (1 - lambda_))\n",
    "    gx = (1 - lambda_) / (x * (theta - 1) + 1 - theta * lambda_)\n",
    "    fx2 = x * ab_1 / lambda_\n",
    "    return gx * (fx1 + fx2)"
   ]
  },
  {
   "cell_type": "code",
   "execution_count": 4,
   "metadata": {},
   "outputs": [],
   "source": [
    "def i_funcs(y, x, n, lambda_, ab_1, c_1, alpha):\n",
    "    num = c_1 * x * np.sin(alpha)\n",
    "    den = np.sqrt((ab(x, lambda_, ab_1) - y - np.cos(alpha)) ** 2 + np.sin(alpha) ** 2)\n",
    "    fx = 2 * x**n * np.arcsin(num / den)\n",
    "    gx = np.pi * ab(x, lambda_, ab_1)\n",
    "    return fx / gx"
   ]
  },
  {
   "cell_type": "code",
   "execution_count": 5,
   "metadata": {},
   "outputs": [],
   "source": [
    "def f_obj(c_1, alpha, lambda_, ab_1):\n",
    "    I_1 = dblquad(\n",
    "        i_funcs,\n",
    "        lambda_,\n",
    "        1,\n",
    "        0,\n",
    "        lambda x: ab(x, lambda_, ab_1),\n",
    "        args=(1, lambda_, ab_1, c_1, alpha),\n",
    "    )[0]\n",
    "    I_2 = dblquad(\n",
    "        i_funcs,\n",
    "        lambda_,\n",
    "        1,\n",
    "        0,\n",
    "        lambda x: ab(x, lambda_, ab_1),\n",
    "        args=(0, lambda_, ab_1, c_1, alpha),\n",
    "    )[0]\n",
    "\n",
    "\n",
    "    const = hH_1 * (1 - lambda_ * psi) / (1 - lambda_)\n",
    "\n",
    "\n",
    "    det = (ab_1 + const) * I_1 - lambda_ * const * I_2\n",
    "\n",
    "\n",
    "    return (ab_1 + hH_1) / det"
   ]
  },
  {
   "cell_type": "code",
   "execution_count": 6,
   "metadata": {},
   "outputs": [],
   "source": [
    "def objective(trial, c_1, alpha):\n",
    "    lmb = trial.suggest_float(\"lambda\", 0.6, 0.99, step=0.01)\n",
    "    ab_1 = trial.suggest_float(\"ab_1\", 0.6, 1.2, step=0.01)\n",
    "    return f_obj(c_1, alpha, lambda_=lmb, ab_1=ab_1)\n"
   ]
  },
  {
   "cell_type": "code",
   "execution_count": null,
   "metadata": {},
   "outputs": [],
   "source": [
    "c_1_list = np.arange(0.2, 0.75, 0.01)\n",
    "alpha_list = np.deg2rad(np.arange(10, 50, 5))\n",
    "N_total = c_1_list.size * alpha_list.size\n",
    "res = []\n",
    "for c_1, alpha in track(product(c_1_list, alpha_list), total=N_total):\n",
    "    study = optuna.create_study(direction=\"minimize\")\n",
    "    study.optimize(lambda x: objective(x, c_1, alpha), n_trials=200)\n",
    "    opt_params = [c_1, alpha, study.best_params[\"lambda\"], study.best_params[\"ab_1\"]]\n",
    "    res.append(opt_params)\n"
   ]
  },
  {
   "cell_type": "code",
   "execution_count": null,
   "metadata": {},
   "outputs": [],
   "source": [
    "res"
   ]
  },
  {
   "cell_type": "markdown",
   "metadata": {},
   "source": [
    "Выводы:\n"
   ]
  },
  {
   "cell_type": "markdown",
   "metadata": {},
   "source": [
    "## Подбор моделей\n"
   ]
  },
  {
   "cell_type": "markdown",
   "metadata": {},
   "source": []
  },
  {
   "cell_type": "markdown",
   "metadata": {},
   "source": [
    "Выводы:\n"
   ]
  },
  {
   "cell_type": "markdown",
   "metadata": {},
   "source": [
    "## Общие выводы\n"
   ]
  },
  {
   "cell_type": "markdown",
   "metadata": {},
   "source": []
  }
 ],
 "metadata": {
  "kernelspec": {
   "display_name": ".venv",
   "language": "python",
   "name": "python3"
  },
  "language_info": {
   "codemirror_mode": {
    "name": "ipython",
    "version": 3
   },
   "file_extension": ".py",
   "mimetype": "text/x-python",
   "name": "python",
   "nbconvert_exporter": "python",
   "pygments_lexer": "ipython3",
   "version": "3.9.13"
  }
 },
 "nbformat": 4,
 "nbformat_minor": 2
}
