{
 "cells": [
  {
   "cell_type": "markdown",
   "metadata": {},
   "source": [
    "## Описание проекта\n"
   ]
  },
  {
   "cell_type": "markdown",
   "metadata": {},
   "source": [
    "Для исследования применимости алгоритмов машинного обучения в задаче расчёта высоковакуумного турбомолекулярного насоса следует решить следующие задачи:\n",
    "\n",
    "- Решить оптимизационную задачу нахождения минимального диаметра колеса ТМН;\n",
    "- Сгенерировать данные и провести по ним EDA;\n",
    "- Исследовать различные модели машинного обучения на предмет предсказания минимального диаметра;\n",
    "- Выбрать лучшую предсказательную модель и уточнить диапазоны оптимальных величин.\n",
    "- Если возможно, получить функциональную зависимость.\n"
   ]
  },
  {
   "cell_type": "markdown",
   "metadata": {},
   "source": [
    "## Теоретическая часть\n"
   ]
  },
  {
   "cell_type": "markdown",
   "metadata": {},
   "source": [
    "Определения:\n",
    "\n",
    "- S - быстрота действия насоса, м^3/c;\n",
    "- $S_{max}$ - максимальная быстрота действия насоса, м^3/c;\n",
    "- T - температура газа, К;\n",
    "- M - молярная масса газа, г/моль;\n",
    "- $с_1 = \\frac{u_2}{v_{нв}}$ - отношение окружной скорости рабочего колеса на наружном диаметре к наиболее вероятной скорости теплового движения молекул;\n",
    "- $\\psi = \\frac{h_2}{h_1}$ - отношение толщин лопатки на внешнем и внутреннем диаметрах;\n",
    "- $\\theta = \\frac{H_2}{H_1}$ - отношение толщин колеса на внешнем диаметре и у основания;\n",
    "- $\\lambda = \\frac{D_1}{D_2}$ - отношение внутреннего диаметра колеса к внешнему диаметру;\n",
    "- $\\alpha$ - угол установки лопаток, $\\degree$;\n",
    "- $\\frac{a_1}{b_1}$ - отношение ширины межлопаточного канала и длины лопатки в корневом сечении;\n",
    "\n",
    "В процессе расчёта по заданной быстроте действия насоса $S = (0.9...0.95)S_{max}$ определяют наружный диаметр внешнего колеса $D_2$, м:\n",
    "\n",
    "$$\n",
    "D_2 = \\sqrt{\\frac{S_{max}}{18.2\\pi\\sqrt{\\frac{T}{M}}}\\cdot F(c_1, \\alpha, ab_1, \\lambda)},\n",
    "$$\n",
    "\n",
    "где\n",
    "\n",
    "$$\n",
    "F(c_1, \\alpha, ab_1, \\lambda) = \\frac{\\frac{a_1}{b_1}+\\frac{h_1}{H_1}}{(\\frac{a_1}{b_1}+\\frac{h_1}{H_1}\\frac{1-\\lambda\\psi}{1-\\lambda})I_1(c_1, \\alpha, ab_1, \\lambda)-\\lambda\\frac{h_1}{H_1}\\frac{1-\\lambda\\psi}{1-\\lambda}I_2(c_1, \\alpha, ab_1, \\lambda)},\n",
    "$$\n",
    "\n",
    "где $I_1$ и $I_2$ - интегралы, характеризующие вероятность перехода молекул со стороны пониженного давления на сторону повышенного и в обратном направлении:\n",
    "\n",
    "$$\n",
    "I_1 = \\frac{2}{\\pi}\\int_\\lambda^1\\frac{x}{ab(x)}\\int_0^{ab(x)}\\arcsin\\Bigl(\\frac{c_1x\\sin{\\alpha}}{\\sqrt{(ab(x) - y - \\cos(\\alpha))^2 + \\sin(\\alpha)^2}}\\Bigr),\n",
    "$$\n",
    "\n",
    "$$\n",
    "I_2 = \\frac{2}{\\pi}\\int_\\lambda^1\\frac{1}{ab(x)}\\int_0^{ab(x)}\\arcsin\\Bigl(\\frac{c_1x\\sin{\\alpha}}{\\sqrt{(ab(x) - y - \\cos(\\alpha))^2 + \\sin(\\alpha)^2}}\\Bigr),\n",
    "$$\n",
    "\n",
    "$$\n",
    "ab(x) = \\frac{1-\\lambda}{x(\\theta-1)+1-\\theta\\lambda}\\Bigl[\\frac{x}{\\lambda}\\frac{a_1}{b_1} + \\frac{h_1}{H_1}\\frac{(1-\\lambda\\psi)(x-\\lambda)}{\\lambda(1-\\lambda)}\\Bigr].\n",
    "$$\n",
    "\n",
    "Проверка данных интегралов показала, что для них невозможно выразить решение в элементарных функциях, а значит найти минимальный диаметр возможно только путем решения задачи оптимизации численными методами. Стоит отметить, что задача сводится к поиску минимума функции F, зависящей только от геометрии колеса, поскольку формулы сводятся к $D_2 = const\\cdot\\sqrt{F}$.\n",
    "\n",
    "Для удобства дальнейших вычислений обозначим класс Wheel, описывающее колесо ступени ТМН и впоследствии будем создавать его экзепляры с различным набором параметров, характеризующих его геомерию. Оптимальное значение F будем искать, задаваясь $с_1$ и $\\alpha$, находя для них также $\\lambda_{опт}$ и $\\Bigl(\\frac{a_1}{b_1}\\Bigr)_{опт}$.\n"
   ]
  },
  {
   "cell_type": "markdown",
   "metadata": {},
   "source": [
    "## Практическая часть\n"
   ]
  },
  {
   "cell_type": "markdown",
   "metadata": {},
   "source": [
    "Импорт библиотек:\n"
   ]
  },
  {
   "cell_type": "code",
   "execution_count": 1,
   "metadata": {},
   "outputs": [],
   "source": [
    "import optuna\n",
    "import numpy as np\n",
    "from scipy.integrate import dblquad\n",
    "from rich.progress import track\n",
    "\n",
    "import warnings\n",
    "from itertools import product\n",
    "\n",
    "warnings.filterwarnings(\"ignore\")\n",
    "optuna.logging.set_verbosity(optuna.logging.WARNING)"
   ]
  },
  {
   "cell_type": "markdown",
   "metadata": {},
   "source": [
    "Зададим параметры, которые в рассчёте примем постоянными $\\theta$, $\\psi$, $\\frac{h_1}{H_1}$:\n"
   ]
  },
  {
   "cell_type": "code",
   "execution_count": 2,
   "metadata": {},
   "outputs": [],
   "source": [
    "THETA: int = 1\n",
    "PSI: int = 1\n",
    "hH_1: float = 0.25"
   ]
  },
  {
   "cell_type": "markdown",
   "metadata": {},
   "source": [
    "Для проведения оптимизации создадим ряд вспомогательных функций. Все они в качестве набора параметров имеют $c_1, \\alpha, ab_1, \\lambda$.\n",
    "\n",
    "- Функция **ab** представляет собой отношение ширины межлопаточного канала и длины лопатки в сечении на радиусе _x_ и также необходима для вычисления интегралов;\n",
    "- Функция **i_funcs** определяет подинтегральную функцию для $I_1$ при _n = 1_ и $I_2$ при _n = 0_ соответственно;\n",
    "- Функция **f_obj** непосредственно вычисляет значение целевой функции при заданных параметрах $c_1, \\alpha, ab_1, \\lambda$;\n",
    "- Функция **objective** нужна для нахождения минимума функции **f_obj**. Для поиска оптимума проводится 200 итераций, лучший набор параметров и соответсвующее ему значение функции добавляются в переменную _res_.\n"
   ]
  },
  {
   "cell_type": "code",
   "execution_count": 3,
   "metadata": {},
   "outputs": [],
   "source": [
    "def ab(x: float, lambda_: float, ab_1: float) -> float:\n",
    "    \"\"\"Calculates the ratio (a/b)_x of the inter-blade channel width to the blade length in a cross-section at radius x with given lambda and ab_1 values.\n",
    "\n",
    "    Args:\n",
    "        x (float): Radius of a turbomolecular pump impeller.\n",
    "        lambda_ (float): The ratio of the inner diameter(D_1) of the wheel to the outer diameter(D_2).\n",
    "        ab_1 (float): the ratio (a/b)_x of the inter-blade channel width to the blade length in the root section(D_1).\n",
    "\n",
    "    Returns:\n",
    "        float: value of a_1/b_1 ratio.\n",
    "    \"\"\"\n",
    "\n",
    "    fx1 = hH_1 * (1 - lambda_ * PSI) * (x - lambda_) / (lambda_ * (1 - lambda_))\n",
    "    fx2 = x * ab_1 / lambda_\n",
    "    gx = (1 - lambda_) / (x * (THETA - 1) + 1 - THETA * lambda_)\n",
    "\n",
    "    return gx * (fx1 + fx2)"
   ]
  },
  {
   "cell_type": "code",
   "execution_count": 4,
   "metadata": {},
   "outputs": [],
   "source": [
    "def i_funcs(\n",
    "    y: float, x: float, n: int, lambda_: float, ab_1: float, c_1: float, alpha: float\n",
    ") -> float:\n",
    "    \"\"\"Calculates the value of the sub-integral function for variables I_1, I_2.\n",
    "\n",
    "    Args:\n",
    "        y (float): y-value for f(y, x).\n",
    "        x (float): x-value for f(y, x).\n",
    "        n (int): {0, 1} - is the exponent of degree x in f(y, x). 0 corresponds to the function for I_2, 1 - for I_1.\n",
    "        lambda_ (float): The ratio of the inner diameter(D_1) of the wheel to the outer diameter(D_2).\n",
    "        ab_1 (float): the ratio a_1/b_1 of the inter-blade channel width to the blade length in the root section(D_1).\n",
    "        c_1 (float): ratio of the circumferential speed of the impeller at the outer diameter to the most probable speed of thermal motion of molecules.\n",
    "        alpha (float): blade angle in radians.\n",
    "\n",
    "    Returns:\n",
    "        float: f(y, x) value\n",
    "    \"\"\"\n",
    "\n",
    "    num = c_1 * x * np.sin(alpha)\n",
    "    den = np.sqrt(\n",
    "        (ab(x, lambda_, ab_1) - y - np.cos(alpha)) ** 2 \n",
    "        + np.sin(alpha) ** 2\n",
    "    )\n",
    "    fx = 2 * x**n * np.arcsin(num / den)\n",
    "    gx = np.pi * ab(x, lambda_, ab_1)\n",
    "\n",
    "    return fx / gx"
   ]
  },
  {
   "cell_type": "code",
   "execution_count": 5,
   "metadata": {},
   "outputs": [],
   "source": [
    "def f_obj(c_1: float, alpha: float, lambda_: float, ab_1: float) -> float:\n",
    "    \"\"\"Calculates the value of the target function at given wheel geometry parameters.\n",
    "\n",
    "    Args:\n",
    "        c_1 (float): ratio of the circumferential speed of the impeller at the outer diameter to the most probable speed of thermal motion of molecules.\n",
    "        alpha (float): blade angle in radians.\n",
    "        lambda_ (float): The ratio of the inner diameter(D_1) of the wheel to the outer diameter(D_2).\n",
    "        ab_1 (float): the ratio a_1/b_1 of the inter-blade channel width to the blade length in the root section(D_1).\n",
    "\n",
    "    Returns:\n",
    "        float: f_obj value\n",
    "    \"\"\"\n",
    "\n",
    "    I_1 = dblquad(i_funcs, lambda_, 1, 0, lambda x: ab(x, lambda_, ab_1),\n",
    "                  args=(1, lambda_, ab_1, c_1, alpha))[0]\n",
    "\n",
    "    I_2 = dblquad(i_funcs, lambda_, 1, 0, lambda x: ab(x, lambda_, ab_1),\n",
    "                  args=(0, lambda_, ab_1, c_1, alpha))[0]\n",
    "\n",
    "    const = hH_1 * (1 - lambda_ * PSI) / (1 - lambda_)\n",
    "    det = (ab_1 + const) * I_1 - lambda_ * const * I_2\n",
    "\n",
    "    return (ab_1 + hH_1) / det"
   ]
  },
  {
   "cell_type": "code",
   "execution_count": 6,
   "metadata": {},
   "outputs": [],
   "source": [
    "def objective(trial, c_1, alpha):\n",
    "    lmb = trial.suggest_float(\"lambda\", 0.6, 0.99, step=0.01)\n",
    "    ab_1 = trial.suggest_float(\"ab_1\", 0.6, 1.2, step=0.01)\n",
    "\n",
    "    return f_obj(c_1, alpha, lambda_=lmb, ab_1=ab_1)"
   ]
  },
  {
   "cell_type": "markdown",
   "metadata": {},
   "source": [
    "После того как все функции определены, можно переходить к проведению оптимизации. Для каждого рассматриваемого случая комбинации параметров $c_1$(в пределах от 0.2 до 0.75) и $\\alpha$(в пределах от 10 до 50 градусов), для которых в каждом случае находится оптимальные $\\lambda$ и $ab_1$, обеспечивающие минимум функции F($c_1$, $\\alpha$, $\\lambda$, $ab_1$), а значит и минимальные значения диаметра $D_2$.\n"
   ]
  },
  {
   "cell_type": "code",
   "execution_count": null,
   "metadata": {},
   "outputs": [],
   "source": [
    "c_1_list = np.arange(0.2, 0.75, 0.01)\n",
    "alpha_list = np.deg2rad(np.arange(10, 50, 5))\n",
    "N_total = c_1_list.size * alpha_list.size\n",
    "res = []\n",
    "for c_1, alpha in track(product(c_1_list, alpha_list), total=N_total):\n",
    "    study = optuna.create_study(direction=\"minimize\")\n",
    "    study.optimize(lambda x: objective(x, c_1, alpha), n_trials=200)\n",
    "    lmb = study.best_params[\"lambda\"]\n",
    "    ab_1 = study.best_params[\"ab_1\"]\n",
    "    f_val = study.best_value\n",
    "    res.append([c_1, alpha, lmb, ab_1, f_val])"
   ]
  },
  {
   "cell_type": "markdown",
   "metadata": {},
   "source": [
    "Проверим полученные результаты и сохраним их для дальнейшего изучения.\n"
   ]
  },
  {
   "cell_type": "code",
   "execution_count": 12,
   "metadata": {},
   "outputs": [
    {
     "data": {
      "text/plain": [
       "array([[ 0.2       ,  0.17453293,  0.6       ,  0.99      , 73.05804959],\n",
       "       [ 0.2       ,  0.26179939,  0.6       ,  0.99      , 59.28627117],\n",
       "       [ 0.2       ,  0.34906585,  0.6       ,  0.99      , 52.0617798 ],\n",
       "       ...,\n",
       "       [ 0.74      ,  0.61086524,  0.6       ,  0.93      , 10.96975029],\n",
       "       [ 0.74      ,  0.6981317 ,  0.6       ,  0.91      , 10.57932265],\n",
       "       [ 0.74      ,  0.78539816,  0.6       ,  0.88      , 10.30570674]])"
      ]
     },
     "execution_count": 12,
     "metadata": {},
     "output_type": "execute_result"
    }
   ],
   "source": [
    "np.array(res)"
   ]
  },
  {
   "cell_type": "code",
   "execution_count": 13,
   "metadata": {},
   "outputs": [],
   "source": [
    "with open(\"data.npy\", \"wb\") as f:\n",
    "    np.save(f, res)"
   ]
  },
  {
   "cell_type": "markdown",
   "metadata": {},
   "source": [
    "Выводы:\n",
    "\n",
    "- Описана постановка задачи поиска минимального диаметра колеса турбомолекулярного насоса.\n",
    "- Для решения задачи достаточно найти минимум функции F, определяемой геометрией самого колеса.\n",
    "- Реализованы вспомогательные функции, позволяющие найти вероятности перехода молекул в межлопаточном канале в прямом и обратном направлении.\n",
    "- Реализован цикл оптимизации функции F, позволяющий для заданных параметров $c_1$, $\\alpha$ находить $\\lambda_{опт}$, $ab_{1опт}$ и $F_{min}$.\n",
    "- Результаты оптимизации(440 строк) сохранены в файл data.npy для дальнейшего анализа."
   ]
  }
 ],
 "metadata": {
  "kernelspec": {
   "display_name": ".venv",
   "language": "python",
   "name": "python3"
  },
  "language_info": {
   "codemirror_mode": {
    "name": "ipython",
    "version": 3
   },
   "file_extension": ".py",
   "mimetype": "text/x-python",
   "name": "python",
   "nbconvert_exporter": "python",
   "pygments_lexer": "ipython3",
   "version": "3.9.13"
  }
 },
 "nbformat": 4,
 "nbformat_minor": 2
}
